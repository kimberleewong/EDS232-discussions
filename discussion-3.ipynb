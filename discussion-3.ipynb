{
 "cells": [
  {
   "cell_type": "markdown",
   "metadata": {},
   "source": [
    "## Data\n",
    "While our data is synthetic, we will still have it hold an environmnetal value. Our data is going to represent the prescence/absence of the invasive European green crab that is often found in California coastal waters. These crabs prefer warmer water temperatures between 64° F and 79° F and salinity levels between 26 and 39 ppt. The features for our data will be water temperature and salinity, and our target variable will be the presence (1) or absence (0) of green crabs at our different sampling sites. Import the libraries below and copy the function to generate our data below to get started"
   ]
  },
  {
   "cell_type": "code",
   "execution_count": 1,
   "metadata": {},
   "outputs": [],
   "source": [
    "# Import necessary libraries\n",
    "import numpy as np\n",
    "import pandas as pd\n",
    "from sklearn.model_selection import train_test_split\n",
    "from sklearn.linear_model import LogisticRegression\n",
    "from sklearn.metrics import roc_curve, auc, confusion_matrix\n",
    "import matplotlib.pyplot as plt\n",
    "from ipywidgets import interact, FloatSlider\n",
    "import seaborn as sns"
   ]
  },
  {
   "cell_type": "markdown",
   "metadata": {},
   "source": [
    "## Function 1"
   ]
  },
  {
   "cell_type": "code",
   "execution_count": 2,
   "metadata": {},
   "outputs": [],
   "source": [
    "def generate_species_data(n_samples=1000, presence_ratio=0.3):\n",
    "    # Calculate number of samples for each class\n",
    "    n_present = int(n_samples * presence_ratio)\n",
    "    n_absent = n_samples - n_present\n",
    "    \n",
    "    # Generate features for presence sites \n",
    "    # Green crabs prefer warmer temps (between 64 and 79 degrees Fahrenheit) and  salinity between 26 and 39 ppt\n",
    "    temp_present = np.random.normal(loc=71, scale= 4, size=n_present)\n",
    "    salinity_present = np.random.normal(loc=32, scale=3, size=n_present)\n",
    "    X_present = np.column_stack([temp_present, salinity_present])\n",
    "    y_present = np.ones(n_present)\n",
    "    \n",
    "    # Generate features for absence sites\n",
    "    # Sites with warmer temps or lower salinity\n",
    "    temp_absent = np.random.normal(loc=26, scale=3, size=n_absent)\n",
    "    salinity_absent = np.random.normal(loc=28, scale=2, size=n_absent)\n",
    "    X_absent = np.column_stack([temp_absent, salinity_absent])\n",
    "    y_absent = np.zeros(n_absent)\n",
    "    \n",
    "    # Combine and shuffle the data\n",
    "    X = np.concatenate([X_present, X_absent])\n",
    "    y = np.concatenate([y_present, y_absent])\n",
    "    \n",
    "    # Shuffle the data\n",
    "    shuffle_idx = np.random.permutation(n_samples)\n",
    "    X = X[shuffle_idx]\n",
    "    y = y[shuffle_idx]\n",
    "    \n",
    "    return X, y"
   ]
  },
  {
   "cell_type": "markdown",
   "metadata": {},
   "source": [
    "## Function 2: \n",
    "### Create a function that creates a bar plot of species presence distribution based on the ratio selected by the user."
   ]
  },
  {
   "cell_type": "code",
   "execution_count": 11,
   "metadata": {},
   "outputs": [],
   "source": [
    "def plot_class_distribution(y):\n",
    "\n",
    "    plt.figure(figsize=(8,4))\n",
    "\n",
    "    # Count the values in each category \n",
    "    class_counts = pd.Series(y).value_counts().sort_index()\n",
    "\n",
    "    # Create a barplot of absent and present species\n",
    "    sns.barplot(x = ['Absent', 'Present'], y = class_counts, color = '#005477')\n",
    "    plt.title('Distribution of Species Present/Absent')\n",
    "    plt.ylabel('Number of Sampling Sites')\n",
    "\n",
    "    # Add percent over each bar\n",
    "    total = len(y)\n",
    "    for i, count in enumerate(class_counts):\n",
    "        percentage = count/total *100 \n",
    "        plt.text(i, count, f'{percentage:.1}%', ha = 'center', va = 'bottom')\n",
    "    plt.show()"
   ]
  },
  {
   "cell_type": "markdown",
   "metadata": {},
   "source": [
    "## Function 3:\n",
    "### Create a function that plots a confusion matrix"
   ]
  },
  {
   "cell_type": "code",
   "execution_count": 4,
   "metadata": {},
   "outputs": [],
   "source": [
    "def plot_confusion_matrix(y_true, y_pred):\n",
    "\n",
    "    # Create a confusion matrix\n",
    "    cm = confusion_matrix(y_true, y_pred)\n",
    "\n",
    "    # Create confusion matrix plot\n",
    "\n",
    "    plt.figure(figsize=(8,6))\n",
    "    sns.heatmap(cm, annot = True, fmt = 'd', cmap = 'GnBu',\n",
    "                xticklabels=['Absent', 'Present'],\n",
    "                yticklabels=['Absent', 'Present'])\n",
    "    plt.title('Confusion Matrix')\n",
    "    plt.ylabel('True Label')\n",
    "    plt.xlabel('Predicted Label')\n",
    "    plt.show()\n",
    "\n",
    "\n",
    "    # Calculate metrix\n",
    "    TP = cm[1,1]\n",
    "    TN = cm[0,0]\n",
    "    FP = cm[0,1]\n",
    "    FN = cm[1,0]\n",
    "\n",
    "    print(\"\\nMetrics from Confusion Matrix: \")\n",
    "    print(f\"True Positives (correctly predicted presence): {TP}\")\n",
    "    print(f\"True Negatives (correctly predicted absence): {TN}\")\n",
    "    print(f\"False Positives (incorrectly predicted presence): {FP}\")\n",
    "    print(f\"False Negatives (incorrectly predicted absence): {FN}\")\n",
    "\n",
    "    # Calculate accuracy\n",
    "    accuracy = (TP + TN)/(TP + TN + FP + FN)\n",
    "    majority_baseline = max(np.mean(y_true), 1 - np.mean(y_true))\n",
    "    sensitivity = TP / (TP + FN)\n",
    "    specificity = TN / (TN + FP)\n",
    "\n",
    "    # Print metrics\n",
    "    print(f\"\\nModel Performance Metrics:\")\n",
    "    print(f\"Accuracys: {accuracy:.3f}\")\n",
    "    print(f\"Sensitivity (True positive rate): {sensitivity:.3f}\")\n",
    "    print(f\"Specificity (True positive rate): {specificity:.3f}\")\n"
   ]
  },
  {
   "cell_type": "markdown",
   "metadata": {},
   "source": [
    "## Function 4\n",
    "### Create a function that plots an ROC curve"
   ]
  },
  {
   "cell_type": "code",
   "execution_count": 5,
   "metadata": {},
   "outputs": [],
   "source": [
    "def plot_roc_curve(y_test, y_pred_prob):\n",
    "\n",
    "    fpr, tpr, _ = roc_curve(y_test, y_pred_prob)\n",
    "    roc_auc = auc(fpr, tpr)\n",
    "\n",
    "    plt.figure(figsize=(8,6))\n",
    "    plt.plot(fpr, tpr, color = 'darkorange', lw = 2,\n",
    "             label = f'ROC Curve (AUC = {roc_auc:.2f})')\n",
    "    plt.plot([0,1], [0,1], color = 'navy', lw = 2, linestyle = '--',\n",
    "             label = 'Random Classifier (AUC = 0.5)')\n",
    "    plt.xlabel('False Positive Rate')\n",
    "    plt.ylabel('True Positive Rate')\n",
    "    plt.title('ROC Curve: Species Presence Prediction')\n",
    "    plt.legend()\n",
    "    plt.grid(True)\n",
    "    plt.show()"
   ]
  },
  {
   "cell_type": "markdown",
   "metadata": {},
   "source": [
    "## Function 5\n",
    "Create a function that runs a logistic regression and outputs a distribution plot, confusion matrix, and ROC Curve"
   ]
  },
  {
   "cell_type": "code",
   "execution_count": 9,
   "metadata": {},
   "outputs": [],
   "source": [
    "def interactive_logistic_regression(presence_ratio = 0.3):\n",
    "    X,y = generate_species_data(presence_ratio=presence_ratio)\n",
    "\n",
    "    # Plot class distribution\n",
    "    print(\"\\nClass Distribution\")\n",
    "    plot_class_distribution(y)\n",
    "\n",
    "    # Split the data\n",
    "    X_train, X_test, y_train, y_test = train_test_split(X,y, test_size=0.3, random_state=42)\n",
    "\n",
    "    # Train the model\n",
    "    model=LogisticRegression()\n",
    "    model.fit(X_train, y_train)\n",
    "\n",
    "    # Make my predictions\n",
    "    y_pred = model.predict(X_test)\n",
    "    y_pred_prob = model.predict_proba(X_test)[:, 1]\n",
    "\n",
    "    # Plot confusion matrix\n",
    "    print('\\nConfusion Matrix')\n",
    "    plot_confusion_matrix(y_test, y_pred)\n",
    "\n",
    "    # Plot ROC curve\n",
    "    print('\\nROC Curve:')\n",
    "    plot_roc_curve(y_test, y_pred_prob)"
   ]
  },
  {
   "cell_type": "markdown",
   "metadata": {},
   "source": [
    "### Create interactivity    "
   ]
  },
  {
   "cell_type": "code",
   "execution_count": 12,
   "metadata": {},
   "outputs": [
    {
     "data": {
      "application/vnd.jupyter.widget-view+json": {
       "model_id": "fc30e6ec2fe94c6f8a4185ffac02861a",
       "version_major": 2,
       "version_minor": 0
      },
      "text/plain": [
       "interactive(children=(FloatSlider(value=0.3, description='% Present', max=0.9, min=0.1), Output()), _dom_class…"
      ]
     },
     "metadata": {},
     "output_type": "display_data"
    }
   ],
   "source": [
    "# Create interactive widget\n",
    "def generate_log_regression():\n",
    "    interact(interactive_logistic_regression, \n",
    "             presence_ratio = FloatSlider(min = 0.1, max = 0.9, step = .1, value = 0.3,\n",
    "                                          description = \"% Present\"))\n",
    "    \n",
    "generate_log_regression()"
   ]
  },
  {
   "cell_type": "code",
   "execution_count": null,
   "metadata": {},
   "outputs": [],
   "source": []
  }
 ],
 "metadata": {
  "kernelspec": {
   "display_name": "ml-env",
   "language": "python",
   "name": "python3"
  },
  "language_info": {
   "codemirror_mode": {
    "name": "ipython",
    "version": 3
   },
   "file_extension": ".py",
   "mimetype": "text/x-python",
   "name": "python",
   "nbconvert_exporter": "python",
   "pygments_lexer": "ipython3",
   "version": "3.10.16"
  }
 },
 "nbformat": 4,
 "nbformat_minor": 2
}
