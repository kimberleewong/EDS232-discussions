{
 "cells": [
  {
   "cell_type": "markdown",
   "id": "7f41246a-bb60-47bd-9bb3-00f336102919",
   "metadata": {},
   "source": [
    "# Discussion 7\n",
    "\n",
    "### NLP with Logistic Regression\n",
    "\n",
    "Thursday, February 20th, 2025"
   ]
  },
  {
   "cell_type": "markdown",
   "id": "7fd7d43c-8375-4fcf-a8c7-9f057eb961bd",
   "metadata": {},
   "source": [
    "## Introduction\n",
    "In this week’s discussion section, we will use a dataset containing tweets related to different disasters. For each observation (tweet), there is an outcome variable that classifies the disasters talked about in the tweet as real (1), or not (0). Rather than having multiple predictors as our X, we will have one predictor - the tweet. However, each individual word can be thought of as their own predictor, each contributing to predicting our outcome variable.\n",
    "\n",
    "## Data\n",
    "The dataset this week is a commonly used dataset for NLP (Natural Language Processing). The dataset can be found here. Disasters.csv includes a text variable, which contains the tweet as a string. Our target variable, target, is a binary outcome variable with 1 representing the disaster discussed as real, and 0 representing the disaster discussed as not real.\n",
    "\n",
    "## Excercise"
   ]
  },
  {
   "cell_type": "code",
   "execution_count": 2,
   "id": "142a60c0-4bdd-4e6d-957b-b153d8451080",
   "metadata": {
    "tags": []
   },
   "outputs": [],
   "source": [
    "import pandas as pd\n",
    "import numpy as np\n",
    "from sklearn.model_selection import train_test_split\n",
    "from sklearn.feature_extraction.text import TfidfVectorizer, CountVectorizer\n",
    "from sklearn.linear_model import LogisticRegression\n",
    "from sklearn.metrics import classification_report, f1_score, accuracy_score, confusion_matrix\n",
    "from sklearn.metrics import roc_curve, auc, roc_auc_score\n",
    "import re\n",
    "import string\n",
    "import matplotlib.pyplot as plt\n",
    "import seaborn as sns\n",
    "\n",
    "# Read in the data\n",
    "disaster = pd.read_csv('/Users/jcsibley/MEDS/eds-232/EDS232-discussion/data/disaster.csv')"
   ]
  },
  {
   "cell_type": "markdown",
   "id": "0b3c373b-2f60-4a6b-b11c-b0a4780e7a07",
   "metadata": {},
   "source": [
    "## Clean text data "
   ]
  },
  {
   "cell_type": "code",
   "execution_count": 3,
   "id": "dc078a9a-df53-47ca-89d0-0c4cdb67c136",
   "metadata": {
    "tags": []
   },
   "outputs": [],
   "source": [
    "# Cleaning text data\n",
    "def preprocess(text): # important to standardize text for model accuracy\n",
    "    text = text.lower() # convert text to lowercase \n",
    "    text=  text.strip()  # remove leading and trailing spaces\n",
    "    text=  re.sub(r'<.*?>','', text) # remove html syntax \n",
    "    text = re.sub(r'[^\\w\\s]','',text) # remove punctuation \n",
    "    text = re.sub(r'\\[[0-9]*\\]',' ',text) # remove reference numbers \n",
    "    text = re.sub(r'\\d',' ',text)  # remove digits \n",
    "    text = re.sub(r'\\s+', ' ', text) # collapsing multiple spaces into a single space \n",
    "    return text"
   ]
  },
  {
   "cell_type": "code",
   "execution_count": 4,
   "id": "6fcffbf6-c969-4588-b77d-56aad119afb7",
   "metadata": {
    "tags": []
   },
   "outputs": [
    {
     "data": {
      "text/html": [
       "<div>\n",
       "<style scoped>\n",
       "    .dataframe tbody tr th:only-of-type {\n",
       "        vertical-align: middle;\n",
       "    }\n",
       "\n",
       "    .dataframe tbody tr th {\n",
       "        vertical-align: top;\n",
       "    }\n",
       "\n",
       "    .dataframe thead th {\n",
       "        text-align: right;\n",
       "    }\n",
       "</style>\n",
       "<table border=\"1\" class=\"dataframe\">\n",
       "  <thead>\n",
       "    <tr style=\"text-align: right;\">\n",
       "      <th></th>\n",
       "      <th>id</th>\n",
       "      <th>keyword</th>\n",
       "      <th>location</th>\n",
       "      <th>text</th>\n",
       "      <th>target</th>\n",
       "      <th>clean_text</th>\n",
       "    </tr>\n",
       "  </thead>\n",
       "  <tbody>\n",
       "    <tr>\n",
       "      <th>0</th>\n",
       "      <td>1</td>\n",
       "      <td>NaN</td>\n",
       "      <td>NaN</td>\n",
       "      <td>Our Deeds are the Reason of this #earthquake M...</td>\n",
       "      <td>1</td>\n",
       "      <td>our deeds are the reason of this earthquake ma...</td>\n",
       "    </tr>\n",
       "    <tr>\n",
       "      <th>1</th>\n",
       "      <td>4</td>\n",
       "      <td>NaN</td>\n",
       "      <td>NaN</td>\n",
       "      <td>Forest fire near La Ronge Sask. Canada</td>\n",
       "      <td>1</td>\n",
       "      <td>forest fire near la ronge sask canada</td>\n",
       "    </tr>\n",
       "    <tr>\n",
       "      <th>2</th>\n",
       "      <td>5</td>\n",
       "      <td>NaN</td>\n",
       "      <td>NaN</td>\n",
       "      <td>All residents asked to 'shelter in place' are ...</td>\n",
       "      <td>1</td>\n",
       "      <td>all residents asked to shelter in place are be...</td>\n",
       "    </tr>\n",
       "    <tr>\n",
       "      <th>3</th>\n",
       "      <td>6</td>\n",
       "      <td>NaN</td>\n",
       "      <td>NaN</td>\n",
       "      <td>13,000 people receive #wildfires evacuation or...</td>\n",
       "      <td>1</td>\n",
       "      <td>people receive wildfires evacuation orders in...</td>\n",
       "    </tr>\n",
       "    <tr>\n",
       "      <th>4</th>\n",
       "      <td>7</td>\n",
       "      <td>NaN</td>\n",
       "      <td>NaN</td>\n",
       "      <td>Just got sent this photo from Ruby #Alaska as ...</td>\n",
       "      <td>1</td>\n",
       "      <td>just got sent this photo from ruby alaska as s...</td>\n",
       "    </tr>\n",
       "  </tbody>\n",
       "</table>\n",
       "</div>"
      ],
      "text/plain": [
       "   id keyword location                                               text  \\\n",
       "0   1     NaN      NaN  Our Deeds are the Reason of this #earthquake M...   \n",
       "1   4     NaN      NaN             Forest fire near La Ronge Sask. Canada   \n",
       "2   5     NaN      NaN  All residents asked to 'shelter in place' are ...   \n",
       "3   6     NaN      NaN  13,000 people receive #wildfires evacuation or...   \n",
       "4   7     NaN      NaN  Just got sent this photo from Ruby #Alaska as ...   \n",
       "\n",
       "   target                                         clean_text  \n",
       "0       1  our deeds are the reason of this earthquake ma...  \n",
       "1       1              forest fire near la ronge sask canada  \n",
       "2       1  all residents asked to shelter in place are be...  \n",
       "3       1   people receive wildfires evacuation orders in...  \n",
       "4       1  just got sent this photo from ruby alaska as s...  "
      ]
     },
     "execution_count": 4,
     "metadata": {},
     "output_type": "execute_result"
    }
   ],
   "source": [
    "# Apply string cleaning to text variable \n",
    "disaster['clean_text'] = disaster['text'].apply(preprocess)\n",
    "disaster.head()"
   ]
  },
  {
   "cell_type": "code",
   "execution_count": 5,
   "id": "51b4d7a3-2829-4448-b8f9-ae646e7f5aca",
   "metadata": {
    "tags": []
   },
   "outputs": [
    {
     "name": "stdout",
     "output_type": "stream",
     "text": [
      "Remaining words:\n",
      "['5th' 'awesome' 'capstone' 'crush' 'march' 'presentatiuon' 'team']\n"
     ]
    }
   ],
   "source": [
    "# Proof that Tfidf vectorizer excludes stopwords (example)\n",
    "stop_words = [\"On March 5th, I will crush my capstone presentatiuon with my awesome team.\"]\n",
    "\n",
    "vectorizer_english = TfidfVectorizer(stop_words = \"english\")\n",
    "X_english = vectorizer_english.fit_transform(stop_words)\n",
    "\n",
    "print(\"Remaining words:\")\n",
    "print(vectorizer_english.get_feature_names_out())"
   ]
  },
  {
   "cell_type": "markdown",
   "id": "b37bc5db-fc1f-4ca4-8756-72680fac258b",
   "metadata": {},
   "source": [
    "## Logisitic regression "
   ]
  },
  {
   "cell_type": "code",
   "execution_count": 6,
   "id": "b9890ca6-9599-4da7-b20a-696fc65cfeb2",
   "metadata": {
    "tags": []
   },
   "outputs": [],
   "source": [
    "# Split into test anf train \n",
    "X_train, X_test, y_train, y_test = train_test_split(disaster['clean_text'], disaster['target'], test_size = 0.3, random_state=42)"
   ]
  },
  {
   "cell_type": "code",
   "execution_count": 9,
   "id": "2e60446b-c03f-4d41-9f79-d508a3bf7ea1",
   "metadata": {
    "tags": []
   },
   "outputs": [],
   "source": [
    "# Vectorize words \n",
    "tfidf_vectorizer = TfidfVectorizer(stop_words = \"english\")\n",
    "X_train_tfidf = tfidf_vectorizer.fit_transform(X_train)\n",
    "X_test_tfidf = tfidf_vectorizer.transform(X_test)"
   ]
  },
  {
   "cell_type": "code",
   "execution_count": 11,
   "id": "6cd45805-0767-4766-af01-3dce4d5c73ab",
   "metadata": {
    "tags": []
   },
   "outputs": [],
   "source": [
    "# Initialize a logisitic regression model and fit to vectorized training data \n",
    "lr_model = LogisticRegression(random_state = 42)\n",
    "lr_model.fit(X_train_tfidf, y_train)\n",
    "y_pred = lr_model.predict(X_test_tfidf)"
   ]
  },
  {
   "cell_type": "markdown",
   "id": "797569b1-4da3-4d45-ab22-cfe712d6e499",
   "metadata": {},
   "source": [
    "## Logisitic regression results "
   ]
  },
  {
   "cell_type": "code",
   "execution_count": 13,
   "id": "6e46abdc-be1e-4681-a89d-727253c57386",
   "metadata": {
    "tags": []
   },
   "outputs": [
    {
     "name": "stdout",
     "output_type": "stream",
     "text": [
      "Accuracy: 0.803415061295972\n"
     ]
    },
    {
     "data": {
      "image/png": "[encoded data removed]",
      "text/plain": [
       "<Figure size 800x600 with 2 Axes>"
      ]
     },
     "metadata": {},
     "output_type": "display_data"
    }
   ],
   "source": [
    "# Calculate LR accuracy \n",
    "accuracy = accuracy_score(y_test, y_pred)\n",
    "print(f\"Accuracy: {accuracy}\")\n",
    "\n",
    "# Create a confusion matrix for correctly/incorrectly prediciting outcome variable\n",
    "cm = confusion_matrix(y_test, y_pred)\n",
    "plt.figure(figsize = (8,6))\n",
    "sns.heatmap(cm, annot = True, fmt = 'd', cmap = \"GnBu\",\n",
    "           xticklabels = [\"No disaster\", \"Disaster\"])\n",
    "plt.title(\"Logistic Regression Model Preformance\")\n",
    "plt.xlabel('Predicted')\n",
    "plt.ylabel('True')\n",
    "plt.show()"
   ]
  },
  {
   "cell_type": "markdown",
   "id": "76d57deb-9f99-4eef-84c6-68b8360c8286",
   "metadata": {},
   "source": [
    "## Test model with new data "
   ]
  },
  {
   "cell_type": "code",
   "execution_count": 14,
   "id": "734fbd81-69ca-4d00-8641-e21b11cefa5d",
   "metadata": {
    "tags": []
   },
   "outputs": [
    {
     "name": "stdout",
     "output_type": "stream",
     "text": [
      "Text: BREAKING: Massive earthquake hits the coast\n",
      "Predictions: Real disaster\n",
      "\n",
      "Text: I love watching disaters movies on Netflix\n",
      "Predictions: Not a real Disaster\n",
      "\n",
      "Text: Thousands evacuated as hurricane approaches\n",
      "Predictions: Real disaster\n",
      "\n",
      "Text: Theeesss is a disassterrr\n",
      "Predictions: Not a real Disaster\n",
      "\n",
      "Text: It's windy!\n",
      "Predictions: Not a real Disaster\n",
      "\n",
      "Text: The Palisades fire has damaged over 7,000 structures\n",
      "Predictions: Not a real Disaster\n",
      "\n",
      "Text: I broke my tooth on a jawbreaker\n",
      "Predictions: Not a real Disaster\n",
      "\n"
     ]
    }
   ],
   "source": [
    "# Create new data \n",
    "new_text = [\"BREAKING: Massive earthquake hits the coast\",\n",
    "           \"I love watching disaters movies on Netflix\",\n",
    "           \"Thousands evacuated as hurricane approaches\",\n",
    "           \"Theeesss is a disassterrr\",\n",
    "           \"It's windy!\",\n",
    "           \"The Palisades fire has damaged over 7,000 structures\",\n",
    "           \"I broke my tooth on a jawbreaker\"]\n",
    "\n",
    "# Preprocess new phrases\n",
    "cleaned_new_text = [preprocess(text) for text in new_text]\n",
    "\n",
    "# Transform using TF-IDF vectorizer\n",
    "new_features = tfidf_vectorizer.transform(cleaned_new_text)\n",
    "\n",
    "# Make predictions \n",
    "predictions = lr_model.predict(new_features)\n",
    "\n",
    "# Check outcomes \n",
    "for text, pred in zip(new_text, predictions):\n",
    "    print(f\"Text: {text}\")\n",
    "    print(f\"Predictions: {'Real disaster' if pred == 1 else 'Not a real Disaster'}\\n\")\n"
   ]
  },
  {
   "cell_type": "code",
   "execution_count": null,
   "id": "e8b1612f-3937-4ed0-bfc4-2c540ab0631c",
   "metadata": {},
   "outputs": [],
   "source": []
  }
 ],
 "metadata": {
  "kernelspec": {
   "display_name": "ml-env",
   "language": "python",
   "name": "python3"
  },
  "language_info": {
   "codemirror_mode": {
    "name": "ipython",
    "version": 3
   },
   "file_extension": ".py",
   "mimetype": "text/x-python",
   "name": "python",
   "nbconvert_exporter": "python",
   "pygments_lexer": "ipython3",
   "version": "3.10.16"
  }
 },
 "nbformat": 4,
 "nbformat_minor": 5
}
